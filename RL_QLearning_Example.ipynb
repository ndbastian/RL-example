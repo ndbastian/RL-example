{
 "cells": [
  {
   "cell_type": "markdown",
   "metadata": {},
   "source": [
    "Import Python Modules"
   ]
  },
  {
   "cell_type": "code",
   "execution_count": 1,
   "metadata": {},
   "outputs": [],
   "source": [
    "import numpy as np \n",
    "import pylab as pl \n",
    "import networkx as nx\n",
    "import matplotlib.pyplot as plt"
   ]
  },
  {
   "cell_type": "markdown",
   "metadata": {},
   "source": [
    "Defining and Visualizing the Graph"
   ]
  },
  {
   "cell_type": "code",
   "execution_count": 2,
   "metadata": {},
   "outputs": [
    {
     "name": "stderr",
     "output_type": "stream",
     "text": [
      "C:\\Users\\Nathan Bastian\\Anaconda3\\lib\\site-packages\\networkx\\drawing\\nx_pylab.py:611: MatplotlibDeprecationWarning: isinstance(..., numbers.Number)\n",
      "  if cb.is_numlike(alpha):\n"
     ]
    },
    {
     "data": {
      "image/png": "[encoded data removed]",
      "text/plain": [
       "<Figure size 432x288 with 1 Axes>"
      ]
     },
     "metadata": {},
     "output_type": "display_data"
    }
   ],
   "source": [
    "edges = [(0, 1), (1, 5), (5, 6), (5, 4), (1, 2),  \n",
    "         (1, 3), (9, 10), (2, 4), (0, 6), (6, 7), \n",
    "         (8, 9), (7, 8), (1, 7), (3, 9)] \n",
    "  \n",
    "goal = 10\n",
    "G = nx.Graph()\n",
    "G.add_edges_from(edges) \n",
    "pos = nx.spring_layout(G) \n",
    "nx.draw(G, pos,  with_labels=True, font_weight='bold')\n",
    "plt.show()"
   ]
  },
  {
   "cell_type": "markdown",
   "metadata": {},
   "source": [
    "Defining the Reward System for the RL Agent"
   ]
  },
  {
   "cell_type": "code",
   "execution_count": 3,
   "metadata": {},
   "outputs": [
    {
     "name": "stdout",
     "output_type": "stream",
     "text": [
      "(0, 1)\n",
      "(1, 5)\n",
      "(5, 6)\n",
      "(5, 4)\n",
      "(1, 2)\n",
      "(1, 3)\n",
      "(9, 10)\n",
      "(2, 4)\n",
      "(0, 6)\n",
      "(6, 7)\n",
      "(8, 9)\n",
      "(7, 8)\n",
      "(1, 7)\n",
      "(3, 9)\n",
      "[[ -1.   0.  -1.  -1.  -1.  -1.   0.  -1.  -1.  -1.  -1.]\n",
      " [  0.  -1.   0.   0.  -1.   0.  -1.   0.  -1.  -1.  -1.]\n",
      " [ -1.   0.  -1.  -1.   0.  -1.  -1.  -1.  -1.  -1.  -1.]\n",
      " [ -1.   0.  -1.  -1.  -1.  -1.  -1.  -1.  -1.   0.  -1.]\n",
      " [ -1.  -1.   0.  -1.  -1.   0.  -1.  -1.  -1.  -1.  -1.]\n",
      " [ -1.   0.  -1.  -1.   0.  -1.   0.  -1.  -1.  -1.  -1.]\n",
      " [  0.  -1.  -1.  -1.  -1.   0.  -1.   0.  -1.  -1.  -1.]\n",
      " [ -1.   0.  -1.  -1.  -1.  -1.   0.  -1.   0.  -1.  -1.]\n",
      " [ -1.  -1.  -1.  -1.  -1.  -1.  -1.   0.  -1.   0.  -1.]\n",
      " [ -1.  -1.  -1.   0.  -1.  -1.  -1.  -1.   0.  -1. 100.]\n",
      " [ -1.  -1.  -1.  -1.  -1.  -1.  -1.  -1.  -1.   0. 100.]]\n"
     ]
    }
   ],
   "source": [
    "MATRIX_SIZE = 11\n",
    "M = np.matrix(np.ones(shape =(MATRIX_SIZE, MATRIX_SIZE))) \n",
    "M *= -1\n",
    "  \n",
    "for point in edges: \n",
    "    print(point) \n",
    "    if point[1] == goal: \n",
    "        M[point] = 100\n",
    "    else: \n",
    "        M[point] = 0\n",
    "  \n",
    "    if point[0] == goal: \n",
    "        M[point[::-1]] = 100\n",
    "    else: \n",
    "        M[point[::-1]]= 0\n",
    "        # reverse of point \n",
    "  \n",
    "M[goal, goal]= 100\n",
    "print(M) "
   ]
  },
  {
   "cell_type": "markdown",
   "metadata": {},
   "source": [
    "Defining some Utility Functions to be used in the Training"
   ]
  },
  {
   "cell_type": "code",
   "execution_count": 4,
   "metadata": {},
   "outputs": [],
   "source": [
    "Q = np.matrix(np.zeros([MATRIX_SIZE, MATRIX_SIZE])) \n",
    "  \n",
    "gamma = 0.75\n",
    "# learning parameter \n",
    "initial_state = 1\n",
    "  \n",
    "# Determines the available actions for a given state \n",
    "def available_actions(state): \n",
    "    current_state_row = M[state, ] \n",
    "    available_action = np.where(current_state_row >= 0)[1] \n",
    "    return available_action \n",
    "  \n",
    "available_action = available_actions(initial_state) \n",
    "  \n",
    "# Chooses one of the available actions at random \n",
    "def sample_next_action(available_actions_range): \n",
    "    next_action = int(np.random.choice(available_action, 1)) \n",
    "    return next_action \n",
    "    \n",
    "action = sample_next_action(available_action) \n",
    "  \n",
    "def update(current_state, action, gamma): \n",
    "  \n",
    "  max_index = np.where(Q[action, ] == np.max(Q[action, ]))[1] \n",
    "  if max_index.shape[0] > 1: \n",
    "      max_index = int(np.random.choice(max_index, size = 1)) \n",
    "  else: \n",
    "      max_index = int(max_index) \n",
    "  max_value = Q[action, max_index] \n",
    "  Q[current_state, action] = M[current_state, action] + gamma * max_value \n",
    "  if (np.max(Q) > 0): \n",
    "    return(np.sum(Q / np.max(Q)*100)) \n",
    "  else: \n",
    "    return (0) "
   ]
  },
  {
   "cell_type": "markdown",
   "metadata": {},
   "source": [
    "Updates the Q-Matrix According to the Path Chosen"
   ]
  },
  {
   "cell_type": "code",
   "execution_count": 5,
   "metadata": {},
   "outputs": [
    {
     "data": {
      "text/plain": [
       "0"
      ]
     },
     "execution_count": 5,
     "metadata": {},
     "output_type": "execute_result"
    }
   ],
   "source": [
    "update(initial_state, action, gamma)"
   ]
  },
  {
   "cell_type": "markdown",
   "metadata": {},
   "source": [
    "Training and Evaluating the RL Agent using the Q-Matrix"
   ]
  },
  {
   "cell_type": "code",
   "execution_count": 6,
   "metadata": {},
   "outputs": [
    {
     "name": "stdout",
     "output_type": "stream",
     "text": [
      "Trained Q-Matrix:\n",
      "[[  0.          42.1867647    0.           0.           0.\n",
      "    0.          31.64007353   0.           0.           0.\n",
      "    0.        ]\n",
      " [ 31.64007353   0.          31.63959689  56.2490196    0.\n",
      "   31.63959689   0.          42.1867647    0.           0.\n",
      "    0.        ]\n",
      " [  0.          42.1867647    0.           0.          23.73005515\n",
      "    0.           0.           0.           0.           0.\n",
      "    0.        ]\n",
      " [  0.          42.1867647    0.           0.           0.\n",
      "    0.           0.           0.           0.          74.99869281\n",
      "    0.        ]\n",
      " [  0.           0.          31.64007353   0.           0.\n",
      "   31.63959689   0.           0.           0.           0.\n",
      "    0.        ]\n",
      " [  0.          42.1867647    0.           0.          23.73005515\n",
      "    0.          31.64007353   0.           0.           0.\n",
      "    0.        ]\n",
      " [ 31.64007353   0.           0.           0.           0.\n",
      "   31.64007353   0.          42.1867647    0.           0.\n",
      "    0.        ]\n",
      " [  0.          42.1867647    0.           0.           0.\n",
      "    0.          31.64007353   0.          56.2490196    0.\n",
      "    0.        ]\n",
      " [  0.           0.           0.           0.           0.\n",
      "    0.           0.          42.1867647    0.          74.99869281\n",
      "    0.        ]\n",
      " [  0.           0.           0.          56.2490196    0.\n",
      "    0.           0.           0.          56.2490196    0.\n",
      "   99.99825707]\n",
      " [  0.           0.           0.           0.           0.\n",
      "    0.           0.           0.           0.          74.99869281\n",
      "  100.        ]]\n"
     ]
    }
   ],
   "source": [
    "scores = [] \n",
    "for i in range(1000): \n",
    "    current_state = np.random.randint(0, int(Q.shape[0])) \n",
    "    available_action = available_actions(current_state) \n",
    "    action = sample_next_action(available_action) \n",
    "    score = update(current_state, action, gamma) \n",
    "    scores.append(score)  \n",
    "\n",
    "print(\"Trained Q-Matrix:\") \n",
    "print(Q / np.max(Q)*100) \n",
    "  \n",
    "# Testing \n",
    "current_state = 0\n",
    "steps = [current_state] \n",
    "  \n",
    "while current_state != 10: \n",
    "  \n",
    "    next_step_index = np.where(Q[current_state, ] == np.max(Q[current_state, ]))[1] \n",
    "    if next_step_index.shape[0] > 1: \n",
    "        next_step_index = int(np.random.choice(next_step_index, size = 1)) \n",
    "    else: \n",
    "        next_step_index = int(next_step_index) \n",
    "    steps.append(next_step_index) \n",
    "    current_state = next_step_index "
   ]
  },
  {
   "cell_type": "markdown",
   "metadata": {},
   "source": [
    "Output the Most Efficient Path and Rewards Plot"
   ]
  },
  {
   "cell_type": "code",
   "execution_count": 7,
   "metadata": {},
   "outputs": [
    {
     "name": "stdout",
     "output_type": "stream",
     "text": [
      "Most efficient path:\n",
      "[0, 1, 3, 9, 10]\n"
     ]
    },
    {
     "data": {
      "image/png": "[encoded data removed]",
      "text/plain": [
       "<Figure size 432x288 with 1 Axes>"
      ]
     },
     "metadata": {
      "needs_background": "light"
     },
     "output_type": "display_data"
    }
   ],
   "source": [
    "print(\"Most efficient path:\") \n",
    "print(steps) \n",
    "plt.plot(scores) \n",
    "plt.xlabel('Number of Iterations') \n",
    "plt.ylabel('Reward Gained') \n",
    "plt.show()"
   ]
  }
 ],
 "metadata": {
  "kernelspec": {
   "display_name": "Python 3",
   "language": "python",
   "name": "python3"
  },
  "language_info": {
   "codemirror_mode": {
    "name": "ipython",
    "version": 3
   },
   "file_extension": ".py",
   "mimetype": "text/x-python",
   "name": "python",
   "nbconvert_exporter": "python",
   "pygments_lexer": "ipython3",
   "version": "3.7.3"
  }
 },
 "nbformat": 4,
 "nbformat_minor": 2
}
